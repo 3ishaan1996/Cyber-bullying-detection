{
 "cells": [
  {
   "cell_type": "code",
   "execution_count": 1,
   "metadata": {},
   "outputs": [
    {
     "name": "stderr",
     "output_type": "stream",
     "text": [
      "C:\\Users\\ISHAAN\\Anaconda3\\lib\\site-packages\\sklearn\\ensemble\\weight_boosting.py:29: DeprecationWarning: numpy.core.umath_tests is an internal NumPy module and should not be imported. It will be removed in a future NumPy release.\n",
      "  from numpy.core.umath_tests import inner1d\n"
     ]
    }
   ],
   "source": [
    "import pandas as pd\n",
    "import numpy as np\n",
    "import matplotlib.pyplot as plt\n",
    "from sklearn import svm\n",
    "from sklearn.metrics import classification_report, confusion_matrix  \n",
    "from sklearn.naive_bayes import GaussianNB\n",
    "from imblearn.over_sampling import SMOTE\n",
    "from sklearn.linear_model import LogisticRegression\n",
    "from sklearn.ensemble import RandomForestRegressor"
   ]
  },
  {
   "cell_type": "code",
   "execution_count": 3,
   "metadata": {},
   "outputs": [
    {
     "name": "stderr",
     "output_type": "stream",
     "text": [
      "C:\\Users\\ISHAAN\\AppData\\Roaming\\Python\\Python36\\site-packages\\ipykernel_launcher.py:4: SettingWithCopyWarning: \n",
      "A value is trying to be set on a copy of a slice from a DataFrame\n",
      "\n",
      "See the caveats in the documentation: http://pandas.pydata.org/pandas-docs/stable/indexing.html#indexing-view-versus-copy\n",
      "  after removing the cwd from sys.path.\n",
      "C:\\Users\\ISHAAN\\AppData\\Roaming\\Python\\Python36\\site-packages\\ipykernel_launcher.py:5: SettingWithCopyWarning: \n",
      "A value is trying to be set on a copy of a slice from a DataFrame\n",
      "\n",
      "See the caveats in the documentation: http://pandas.pydata.org/pandas-docs/stable/indexing.html#indexing-view-versus-copy\n",
      "  \"\"\"\n"
     ]
    }
   ],
   "source": [
    "trainText = pd.read_csv('text_train_5_df.txt')\n",
    "trainAudio = pd.read_csv('audio_train_df.txt')\n",
    "trainVideo = pd.read_csv('visual_train_df.txt')\n",
    "trainAudio.bully[trainAudio.bully == 'bullying'] = 1\n",
    "trainAudio.bully[trainAudio.bully == 'noneBll'] = 0\n",
    "# trainVideo.bully[trainVideo.bully == 'bullying'] = 1\n",
    "# trainVideo.bully[trainVideo.bully == 'noneBll'] = 0\n"
   ]
  },
  {
   "cell_type": "code",
   "execution_count": 29,
   "metadata": {},
   "outputs": [
    {
     "name": "stderr",
     "output_type": "stream",
     "text": [
      "C:\\Users\\ISHAAN\\AppData\\Roaming\\Python\\Python36\\site-packages\\ipykernel_launcher.py:4: SettingWithCopyWarning: \n",
      "A value is trying to be set on a copy of a slice from a DataFrame\n",
      "\n",
      "See the caveats in the documentation: http://pandas.pydata.org/pandas-docs/stable/indexing.html#indexing-view-versus-copy\n",
      "  after removing the cwd from sys.path.\n",
      "C:\\Users\\ISHAAN\\AppData\\Roaming\\Python\\Python36\\site-packages\\ipykernel_launcher.py:5: SettingWithCopyWarning: \n",
      "A value is trying to be set on a copy of a slice from a DataFrame\n",
      "\n",
      "See the caveats in the documentation: http://pandas.pydata.org/pandas-docs/stable/indexing.html#indexing-view-versus-copy\n",
      "  \"\"\"\n"
     ]
    }
   ],
   "source": [
    "testText = pd.read_csv('text_test_5_df.txt')\n",
    "testAudio = pd.read_csv('audio_test_df.txt')\n",
    "testVideo = pd.read_csv('visual_test_df.txt')\n",
    "testAudio.bully[testAudio.bully == 'bullying'] = 1\n",
    "testAudio.bully[testAudio.bully == 'noneBll'] = 0\n",
    "# testVideo.bully[testVideo.bully == 'bullying'] = 1\n",
    "# testVideo.bully[testVideo.bully == 'noneBll'] = 0"
   ]
  },
  {
   "cell_type": "code",
   "execution_count": 30,
   "metadata": {},
   "outputs": [],
   "source": [
    "x1train = trainAudio.iloc[:, 0:-2]\n",
    "x2train = trainVideo.iloc[:, 0:-2]\n",
    "x3train = trainText.iloc[:, 0:-2]\n",
    "xtrain = pd.concat([x1train, x2train, x3train], axis=1)\n",
    "ytrain = trainAudio.iloc[:, -1]\n",
    "ytrain=ytrain.astype('int')"
   ]
  },
  {
   "cell_type": "code",
   "execution_count": 31,
   "metadata": {},
   "outputs": [],
   "source": [
    "x1test = testAudio.iloc[:, 0:-2]\n",
    "x2test = testVideo.iloc[:, :-2]\n",
    "x3test = testText.iloc[:, :-2]\n",
    "xtest = pd.concat([x1test, x2test, x3test], axis=1)\n",
    "ytest = testAudio.iloc[:, -1]\n",
    "ytest=ytest.astype('int')"
   ]
  },
  {
   "cell_type": "code",
   "execution_count": 32,
   "metadata": {},
   "outputs": [],
   "source": [
    "sm = SMOTE(random_state=2)\n",
    "x_train, y_train = sm.fit_sample(xtrain, ytrain.ravel())"
   ]
  },
  {
   "cell_type": "code",
   "execution_count": 48,
   "metadata": {},
   "outputs": [
    {
     "data": {
      "text/plain": [
       "SVC(C=10, cache_size=200, class_weight=None, coef0=0.0,\n",
       "  decision_function_shape='ovr', degree=3, gamma='auto', kernel='linear',\n",
       "  max_iter=-1, probability=False, random_state=None, shrinking=True,\n",
       "  tol=0.001, verbose=False)"
      ]
     },
     "execution_count": 48,
     "metadata": {},
     "output_type": "execute_result"
    }
   ],
   "source": [
    "from sklearn.svm import SVC\n",
    "avSVM =SVC(kernel = 'linear', C = 10)\n",
    "avSVM.fit(x_train, y_train)"
   ]
  },
  {
   "cell_type": "code",
   "execution_count": 49,
   "metadata": {},
   "outputs": [
    {
     "name": "stdout",
     "output_type": "stream",
     "text": [
      "             precision    recall  f1-score   support\n",
      "\n",
      "          0       0.93      0.65      0.77       168\n",
      "          1       0.43      0.85      0.57        52\n",
      "\n",
      "avg / total       0.81      0.70      0.72       220\n",
      "\n",
      "[[110  58]\n",
      " [  8  44]]\n"
     ]
    }
   ],
   "source": [
    "ypredSVM = avSVM.predict(xtest)  \n",
    "print(classification_report(ytest.values, ypredSVM))\n",
    "print(confusion_matrix(ytest.values, ypredSVM)) "
   ]
  },
  {
   "cell_type": "code",
   "execution_count": 50,
   "metadata": {},
   "outputs": [
    {
     "name": "stdout",
     "output_type": "stream",
     "text": [
      "0.7\n"
     ]
    }
   ],
   "source": [
    "from sklearn.metrics import accuracy_score\n",
    "print(accuracy_score(ytest,ypredSVM))"
   ]
  },
  {
   "cell_type": "code",
   "execution_count": 33,
   "metadata": {},
   "outputs": [
    {
     "data": {
      "text/plain": [
       "GaussianNB(priors=None)"
      ]
     },
     "execution_count": 33,
     "metadata": {},
     "output_type": "execute_result"
    }
   ],
   "source": [
    "avGaussianNB = GaussianNB()\n",
    "avGaussianNB.fit(x_train, y_train)"
   ]
  },
  {
   "cell_type": "code",
   "execution_count": 34,
   "metadata": {},
   "outputs": [
    {
     "name": "stdout",
     "output_type": "stream",
     "text": [
      "             precision    recall  f1-score   support\n",
      "\n",
      "          0       0.96      0.64      0.77       168\n",
      "          1       0.44      0.92      0.60        52\n",
      "\n",
      "avg / total       0.84      0.70      0.73       220\n",
      "\n",
      "[[107  61]\n",
      " [  4  48]]\n",
      "0.7045454545454546\n"
     ]
    }
   ],
   "source": [
    "from sklearn.metrics import accuracy_score\n",
    "ypredNB = avGaussianNB.predict(xtest)\n",
    "print(classification_report(ytest.values, ypredNB))\n",
    "print(confusion_matrix(ytest.values, ypredNB)) \n",
    "print(accuracy_score(ytest,ypredNB))"
   ]
  },
  {
   "cell_type": "code",
   "execution_count": 35,
   "metadata": {},
   "outputs": [
    {
     "data": {
      "text/plain": [
       "LogisticRegression(C=1.0, class_weight=None, dual=False, fit_intercept=True,\n",
       "          intercept_scaling=1, max_iter=100, multi_class='ovr', n_jobs=1,\n",
       "          penalty='l2', random_state=None, solver='liblinear', tol=0.0001,\n",
       "          verbose=0, warm_start=False)"
      ]
     },
     "execution_count": 35,
     "metadata": {},
     "output_type": "execute_result"
    }
   ],
   "source": [
    "avLR = LogisticRegression()\n",
    "avLR.fit(x_train, y_train)"
   ]
  },
  {
   "cell_type": "code",
   "execution_count": 36,
   "metadata": {},
   "outputs": [
    {
     "name": "stdout",
     "output_type": "stream",
     "text": [
      "             precision    recall  f1-score   support\n",
      "\n",
      "          0       0.95      0.75      0.84       168\n",
      "          1       0.52      0.88      0.66        52\n",
      "\n",
      "avg / total       0.85      0.78      0.80       220\n",
      "\n",
      "[[126  42]\n",
      " [  6  46]]\n",
      "0.7818181818181819\n"
     ]
    }
   ],
   "source": [
    "ypredLR = avLR.predict(xtest)\n",
    "print(classification_report(ytest.values, ypredLR))\n",
    "print(confusion_matrix(ytest.values, ypredLR))\n",
    "print(accuracy_score(ytest,ypredLR))"
   ]
  },
  {
   "cell_type": "code",
   "execution_count": 37,
   "metadata": {},
   "outputs": [
    {
     "data": {
      "text/plain": [
       "RandomForestRegressor(bootstrap=True, criterion='mse', max_depth=None,\n",
       "           max_features='auto', max_leaf_nodes=None,\n",
       "           min_impurity_decrease=0.0, min_impurity_split=None,\n",
       "           min_samples_leaf=1, min_samples_split=2,\n",
       "           min_weight_fraction_leaf=0.0, n_estimators=20, n_jobs=1,\n",
       "           oob_score=False, random_state=0, verbose=0, warm_start=False)"
      ]
     },
     "execution_count": 37,
     "metadata": {},
     "output_type": "execute_result"
    }
   ],
   "source": [
    "avRF = RandomForestRegressor(n_estimators=20, random_state=0)\n",
    "avRF.fit(x_train, y_train)"
   ]
  },
  {
   "cell_type": "code",
   "execution_count": 38,
   "metadata": {},
   "outputs": [],
   "source": [
    "ypredRF = avRF.predict(xtest)\n",
    "for x in range(len(ypredRF)):\n",
    "    ypredRF[x] = 1 if ypredRF[x] >= 0.5 else 0"
   ]
  },
  {
   "cell_type": "code",
   "execution_count": 39,
   "metadata": {},
   "outputs": [
    {
     "name": "stdout",
     "output_type": "stream",
     "text": [
      "             precision    recall  f1-score   support\n",
      "\n",
      "          0       0.86      0.82      0.84       168\n",
      "          1       0.48      0.56      0.52        52\n",
      "\n",
      "avg / total       0.77      0.75      0.76       220\n",
      "\n",
      "[[137  31]\n",
      " [ 23  29]]\n",
      "0.7545454545454545\n"
     ]
    }
   ],
   "source": [
    "print(classification_report(ytest.values, ypredRF))\n",
    "print(confusion_matrix(ytest.values, ypredRF))\n",
    "print(accuracy_score(ytest,ypredRF))"
   ]
  },
  {
   "cell_type": "code",
   "execution_count": 40,
   "metadata": {},
   "outputs": [],
   "source": [
    "from sklearn.neighbors import KNeighborsClassifier\n",
    "knn = KNeighborsClassifier(n_neighbors = 3)\n"
   ]
  },
  {
   "cell_type": "code",
   "execution_count": 41,
   "metadata": {},
   "outputs": [
    {
     "data": {
      "text/plain": [
       "KNeighborsClassifier(algorithm='auto', leaf_size=30, metric='minkowski',\n",
       "           metric_params=None, n_jobs=1, n_neighbors=3, p=2,\n",
       "           weights='uniform')"
      ]
     },
     "execution_count": 41,
     "metadata": {},
     "output_type": "execute_result"
    }
   ],
   "source": [
    "knn.fit(x_train,y_train)"
   ]
  },
  {
   "cell_type": "code",
   "execution_count": 44,
   "metadata": {},
   "outputs": [],
   "source": [
    "knn_pred = knn.predict(xtest)"
   ]
  },
  {
   "cell_type": "code",
   "execution_count": 47,
   "metadata": {},
   "outputs": [
    {
     "name": "stdout",
     "output_type": "stream",
     "text": [
      "[[110  58]\n",
      " [ 26  26]]\n",
      "             precision    recall  f1-score   support\n",
      "\n",
      "          0       0.81      0.65      0.72       168\n",
      "          1       0.31      0.50      0.38        52\n",
      "\n",
      "avg / total       0.69      0.62      0.64       220\n",
      "\n",
      "0.6181818181818182\n"
     ]
    }
   ],
   "source": [
    "print(confusion_matrix(ytest.values, knn_pred))\n",
    "print(classification_report(ytest,knn_pred))\n",
    "print(accuracy_score(ytest,knn_pred))"
   ]
  },
  {
   "cell_type": "code",
   "execution_count": null,
   "metadata": {},
   "outputs": [],
   "source": []
  }
 ],
 "metadata": {
  "kernelspec": {
   "display_name": "Python 3",
   "language": "python",
   "name": "python3"
  },
  "language_info": {
   "codemirror_mode": {
    "name": "ipython",
    "version": 3
   },
   "file_extension": ".py",
   "mimetype": "text/x-python",
   "name": "python",
   "nbconvert_exporter": "python",
   "pygments_lexer": "ipython3",
   "version": "3.6.6"
  }
 },
 "nbformat": 4,
 "nbformat_minor": 2
}
